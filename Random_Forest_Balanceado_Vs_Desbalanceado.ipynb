{
  "nbformat": 4,
  "nbformat_minor": 0,
  "metadata": {
    "colab": {
      "provenance": [],
      "authorship_tag": "ABX9TyNDo3b6fcki2oeG/KTVHIet",
      "include_colab_link": true
    },
    "kernelspec": {
      "name": "python3",
      "display_name": "Python 3"
    },
    "language_info": {
      "name": "python"
    }
  },
  "cells": [
    {
      "cell_type": "markdown",
      "metadata": {
        "id": "view-in-github",
        "colab_type": "text"
      },
      "source": [
        "<a href=\"https://colab.research.google.com/github/ehcdc1967/Proyectos-de-Inversion/blob/main/Random_Forest_Balanceado_Vs_Desbalanceado.ipynb\" target=\"_parent\"><img src=\"https://colab.research.google.com/assets/colab-badge.svg\" alt=\"Open In Colab\"/></a>"
      ]
    },
    {
      "cell_type": "code",
      "execution_count": null,
      "metadata": {
        "id": "9mH3aXrQrRdO"
      },
      "outputs": [],
      "source": [
        "import pandas as pd\n",
        "import numpy as np\n",
        "from sklearn.ensemble import RandomForestClassifier\n",
        "from sklearn.model_selection import StratifiedKFold, cross_val_score\n",
        "from sklearn.metrics import ( accuracy_score , roc_auc_score )\n",
        "from sklearn.preprocessing import StandardScaler\n",
        "from imblearn.over_sampling import SMOTE\n",
        "import matplotlib.pyplot as plt"
      ]
    },
    {
      "cell_type": "code",
      "source": [
        "# Leer el archivo de datos\n",
        "df = pd.read_parquet('https://raw.githubusercontent.com/ehcdc1967/Proyectos-de-Inversion/main/poblacion.parquet')"
      ],
      "metadata": {
        "id": "kWheElPArq5X"
      },
      "execution_count": null,
      "outputs": []
    },
    {
      "cell_type": "code",
      "source": [
        "df.info()"
      ],
      "metadata": {
        "colab": {
          "base_uri": "https://localhost:8080/"
        },
        "id": "VobCeJprrxco",
        "outputId": "662a0074-474d-4aed-98ba-37ab73c966ee"
      },
      "execution_count": null,
      "outputs": [
        {
          "output_type": "stream",
          "name": "stdout",
          "text": [
            "<class 'pandas.core.frame.DataFrame'>\n",
            "RangeIndex: 52415 entries, 0 to 52414\n",
            "Data columns (total 21 columns):\n",
            " #   Column                   Non-Null Count  Dtype   \n",
            "---  ------                   --------------  -----   \n",
            " 0   CODIGO_UNICO             52415 non-null  object  \n",
            " 1   SOBRECOSTO               52415 non-null  float64 \n",
            " 2   FUNCION                  52415 non-null  object  \n",
            " 3   TIEMPO_VIABILIDAD        52415 non-null  float64 \n",
            " 4   TIEMPO_EJECUCION         52415 non-null  float64 \n",
            " 5   BENEFICIARIO             52415 non-null  float64 \n",
            " 6   CTRL_CONCURR             52415 non-null  float64 \n",
            " 7   MONTO_LAUDO              52415 non-null  float64 \n",
            " 8   NATURALEZA_MEJORAMIENTO  52415 non-null  float64 \n",
            " 9   NATURALEZA_AMPLIACION    52415 non-null  float64 \n",
            " 10  NATURALEZA_RECUPERACION  52415 non-null  float64 \n",
            " 11  NATURALEZA_CREACION      52415 non-null  float64 \n",
            " 12  MODALIDAD_DIRECTA        52415 non-null  float64 \n",
            " 13  MODALIDAD_INDIRECTA      52415 non-null  float64 \n",
            " 14  MODIFICACION_F8          52415 non-null  float64 \n",
            " 15  EXPEDIENTE_TECNICO       52415 non-null  float64 \n",
            " 16  REGISTRADO_PMI           52415 non-null  float64 \n",
            " 17  DPTO                     52415 non-null  object  \n",
            " 18  TIPO_MUNICIPALIDAD       52415 non-null  category\n",
            " 19  RATIO_ET_VIABLE          52415 non-null  float64 \n",
            " 20  RATIO_ET_COSTO           52415 non-null  float64 \n",
            "dtypes: category(1), float64(17), object(3)\n",
            "memory usage: 8.0+ MB\n"
          ]
        }
      ]
    },
    {
      "cell_type": "code",
      "source": [
        "# Eliminar columnas irrelevantes y manejar valores faltantes\n",
        "df.drop(columns=['CODIGO_UNICO'], inplace=True, errors='ignore')\n",
        "df.dropna(inplace=True)"
      ],
      "metadata": {
        "id": "OI_RgWHwr1Wh"
      },
      "execution_count": null,
      "outputs": []
    },
    {
      "cell_type": "code",
      "source": [
        "# One-Hot Encoding para variables categóricas\n",
        "df = pd.get_dummies(df, columns=['FUNCION', 'DPTO', 'TIPO_MUNICIPALIDAD'], drop_first=True)"
      ],
      "metadata": {
        "id": "VX5FZ7Ogr_Pe"
      },
      "execution_count": null,
      "outputs": []
    },
    {
      "cell_type": "code",
      "source": [
        "# Separar características (X) y objetivo (y)\n",
        "if 'SOBRECOSTO' not in df.columns:\n",
        "    raise ValueError(\"La columna objetivo 'SOBRECOSTO' no está en los datos.\")"
      ],
      "metadata": {
        "id": "xsuMc4VksIPk"
      },
      "execution_count": null,
      "outputs": []
    },
    {
      "cell_type": "code",
      "source": [
        "X = df.drop(columns=['SOBRECOSTO'], errors='ignore')\n",
        "y = df['SOBRECOSTO']"
      ],
      "metadata": {
        "id": "I_PnQ7misNsk"
      },
      "execution_count": null,
      "outputs": []
    },
    {
      "cell_type": "code",
      "source": [
        "# Estandarizar las variables continuas\n",
        "scaler = StandardScaler()\n",
        "X = scaler.fit_transform(X)"
      ],
      "metadata": {
        "id": "_5cRoCqUsUEs"
      },
      "execution_count": null,
      "outputs": []
    },
    {
      "cell_type": "code",
      "source": [
        "df.head()"
      ],
      "metadata": {
        "colab": {
          "base_uri": "https://localhost:8080/",
          "height": 273
        },
        "id": "yAAL3wugsXT_",
        "outputId": "cac1be56-71c4-438c-b073-c85d69d17151"
      },
      "execution_count": null,
      "outputs": [
        {
          "output_type": "execute_result",
          "data": {
            "text/plain": [
              "  CODIGO_UNICO  SOBRECOSTO  TIEMPO_VIABILIDAD  TIEMPO_EJECUCION  BENEFICIARIO  \\\n",
              "0      2596886         0.0               11.0             700.0        2195.0   \n",
              "1      2546333         0.0                4.0             153.0        2032.0   \n",
              "2      2572657         1.0                7.0             275.0        3873.0   \n",
              "3      2570164         0.0                1.0              90.0         276.0   \n",
              "4      2576889         0.0               25.0             396.0        1663.0   \n",
              "\n",
              "   CTRL_CONCURR  MONTO_LAUDO  NATURALEZA_MEJORAMIENTO  NATURALEZA_AMPLIACION  \\\n",
              "0           0.0          0.0                      1.0                    1.0   \n",
              "1           0.0          0.0                      0.0                    0.0   \n",
              "2           0.0          0.0                      1.0                    1.0   \n",
              "3           0.0          0.0                      1.0                    0.0   \n",
              "4           0.0          0.0                      1.0                    0.0   \n",
              "\n",
              "   NATURALEZA_RECUPERACION  ...  DPTO_SAN MARTIN  DPTO_TACNA  DPTO_TUMBES  \\\n",
              "0                      0.0  ...            False       False        False   \n",
              "1                      0.0  ...            False       False        False   \n",
              "2                      0.0  ...            False       False        False   \n",
              "3                      0.0  ...            False       False        False   \n",
              "4                      0.0  ...            False        True        False   \n",
              "\n",
              "   DPTO_UCAYALI  TIPO_MUNICIPALIDAD_B  TIPO_MUNICIPALIDAD_C  \\\n",
              "0         False                 False                 False   \n",
              "1         False                 False                 False   \n",
              "2         False                 False                 False   \n",
              "3         False                 False                 False   \n",
              "4         False                 False                 False   \n",
              "\n",
              "   TIPO_MUNICIPALIDAD_D  TIPO_MUNICIPALIDAD_E  TIPO_MUNICIPALIDAD_F  \\\n",
              "0                 False                 False                 False   \n",
              "1                 False                 False                 False   \n",
              "2                 False                 False                 False   \n",
              "3                 False                 False                 False   \n",
              "4                  True                 False                 False   \n",
              "\n",
              "   TIPO_MUNICIPALIDAD_G  \n",
              "0                  True  \n",
              "1                  True  \n",
              "2                  True  \n",
              "3                  True  \n",
              "4                 False  \n",
              "\n",
              "[5 rows x 69 columns]"
            ],
            "text/html": [
              "\n",
              "  <div id=\"df-beea4058-be7a-4f60-9b86-a393dfaf8403\" class=\"colab-df-container\">\n",
              "    <div>\n",
              "<style scoped>\n",
              "    .dataframe tbody tr th:only-of-type {\n",
              "        vertical-align: middle;\n",
              "    }\n",
              "\n",
              "    .dataframe tbody tr th {\n",
              "        vertical-align: top;\n",
              "    }\n",
              "\n",
              "    .dataframe thead th {\n",
              "        text-align: right;\n",
              "    }\n",
              "</style>\n",
              "<table border=\"1\" class=\"dataframe\">\n",
              "  <thead>\n",
              "    <tr style=\"text-align: right;\">\n",
              "      <th></th>\n",
              "      <th>CODIGO_UNICO</th>\n",
              "      <th>SOBRECOSTO</th>\n",
              "      <th>TIEMPO_VIABILIDAD</th>\n",
              "      <th>TIEMPO_EJECUCION</th>\n",
              "      <th>BENEFICIARIO</th>\n",
              "      <th>CTRL_CONCURR</th>\n",
              "      <th>MONTO_LAUDO</th>\n",
              "      <th>NATURALEZA_MEJORAMIENTO</th>\n",
              "      <th>NATURALEZA_AMPLIACION</th>\n",
              "      <th>NATURALEZA_RECUPERACION</th>\n",
              "      <th>...</th>\n",
              "      <th>DPTO_SAN MARTIN</th>\n",
              "      <th>DPTO_TACNA</th>\n",
              "      <th>DPTO_TUMBES</th>\n",
              "      <th>DPTO_UCAYALI</th>\n",
              "      <th>TIPO_MUNICIPALIDAD_B</th>\n",
              "      <th>TIPO_MUNICIPALIDAD_C</th>\n",
              "      <th>TIPO_MUNICIPALIDAD_D</th>\n",
              "      <th>TIPO_MUNICIPALIDAD_E</th>\n",
              "      <th>TIPO_MUNICIPALIDAD_F</th>\n",
              "      <th>TIPO_MUNICIPALIDAD_G</th>\n",
              "    </tr>\n",
              "  </thead>\n",
              "  <tbody>\n",
              "    <tr>\n",
              "      <th>0</th>\n",
              "      <td>2596886</td>\n",
              "      <td>0.0</td>\n",
              "      <td>11.0</td>\n",
              "      <td>700.0</td>\n",
              "      <td>2195.0</td>\n",
              "      <td>0.0</td>\n",
              "      <td>0.0</td>\n",
              "      <td>1.0</td>\n",
              "      <td>1.0</td>\n",
              "      <td>0.0</td>\n",
              "      <td>...</td>\n",
              "      <td>False</td>\n",
              "      <td>False</td>\n",
              "      <td>False</td>\n",
              "      <td>False</td>\n",
              "      <td>False</td>\n",
              "      <td>False</td>\n",
              "      <td>False</td>\n",
              "      <td>False</td>\n",
              "      <td>False</td>\n",
              "      <td>True</td>\n",
              "    </tr>\n",
              "    <tr>\n",
              "      <th>1</th>\n",
              "      <td>2546333</td>\n",
              "      <td>0.0</td>\n",
              "      <td>4.0</td>\n",
              "      <td>153.0</td>\n",
              "      <td>2032.0</td>\n",
              "      <td>0.0</td>\n",
              "      <td>0.0</td>\n",
              "      <td>0.0</td>\n",
              "      <td>0.0</td>\n",
              "      <td>0.0</td>\n",
              "      <td>...</td>\n",
              "      <td>False</td>\n",
              "      <td>False</td>\n",
              "      <td>False</td>\n",
              "      <td>False</td>\n",
              "      <td>False</td>\n",
              "      <td>False</td>\n",
              "      <td>False</td>\n",
              "      <td>False</td>\n",
              "      <td>False</td>\n",
              "      <td>True</td>\n",
              "    </tr>\n",
              "    <tr>\n",
              "      <th>2</th>\n",
              "      <td>2572657</td>\n",
              "      <td>1.0</td>\n",
              "      <td>7.0</td>\n",
              "      <td>275.0</td>\n",
              "      <td>3873.0</td>\n",
              "      <td>0.0</td>\n",
              "      <td>0.0</td>\n",
              "      <td>1.0</td>\n",
              "      <td>1.0</td>\n",
              "      <td>0.0</td>\n",
              "      <td>...</td>\n",
              "      <td>False</td>\n",
              "      <td>False</td>\n",
              "      <td>False</td>\n",
              "      <td>False</td>\n",
              "      <td>False</td>\n",
              "      <td>False</td>\n",
              "      <td>False</td>\n",
              "      <td>False</td>\n",
              "      <td>False</td>\n",
              "      <td>True</td>\n",
              "    </tr>\n",
              "    <tr>\n",
              "      <th>3</th>\n",
              "      <td>2570164</td>\n",
              "      <td>0.0</td>\n",
              "      <td>1.0</td>\n",
              "      <td>90.0</td>\n",
              "      <td>276.0</td>\n",
              "      <td>0.0</td>\n",
              "      <td>0.0</td>\n",
              "      <td>1.0</td>\n",
              "      <td>0.0</td>\n",
              "      <td>0.0</td>\n",
              "      <td>...</td>\n",
              "      <td>False</td>\n",
              "      <td>False</td>\n",
              "      <td>False</td>\n",
              "      <td>False</td>\n",
              "      <td>False</td>\n",
              "      <td>False</td>\n",
              "      <td>False</td>\n",
              "      <td>False</td>\n",
              "      <td>False</td>\n",
              "      <td>True</td>\n",
              "    </tr>\n",
              "    <tr>\n",
              "      <th>4</th>\n",
              "      <td>2576889</td>\n",
              "      <td>0.0</td>\n",
              "      <td>25.0</td>\n",
              "      <td>396.0</td>\n",
              "      <td>1663.0</td>\n",
              "      <td>0.0</td>\n",
              "      <td>0.0</td>\n",
              "      <td>1.0</td>\n",
              "      <td>0.0</td>\n",
              "      <td>0.0</td>\n",
              "      <td>...</td>\n",
              "      <td>False</td>\n",
              "      <td>True</td>\n",
              "      <td>False</td>\n",
              "      <td>False</td>\n",
              "      <td>False</td>\n",
              "      <td>False</td>\n",
              "      <td>True</td>\n",
              "      <td>False</td>\n",
              "      <td>False</td>\n",
              "      <td>False</td>\n",
              "    </tr>\n",
              "  </tbody>\n",
              "</table>\n",
              "<p>5 rows × 69 columns</p>\n",
              "</div>\n",
              "    <div class=\"colab-df-buttons\">\n",
              "\n",
              "  <div class=\"colab-df-container\">\n",
              "    <button class=\"colab-df-convert\" onclick=\"convertToInteractive('df-beea4058-be7a-4f60-9b86-a393dfaf8403')\"\n",
              "            title=\"Convert this dataframe to an interactive table.\"\n",
              "            style=\"display:none;\">\n",
              "\n",
              "  <svg xmlns=\"http://www.w3.org/2000/svg\" height=\"24px\" viewBox=\"0 -960 960 960\">\n",
              "    <path d=\"M120-120v-720h720v720H120Zm60-500h600v-160H180v160Zm220 220h160v-160H400v160Zm0 220h160v-160H400v160ZM180-400h160v-160H180v160Zm440 0h160v-160H620v160ZM180-180h160v-160H180v160Zm440 0h160v-160H620v160Z\"/>\n",
              "  </svg>\n",
              "    </button>\n",
              "\n",
              "  <style>\n",
              "    .colab-df-container {\n",
              "      display:flex;\n",
              "      gap: 12px;\n",
              "    }\n",
              "\n",
              "    .colab-df-convert {\n",
              "      background-color: #E8F0FE;\n",
              "      border: none;\n",
              "      border-radius: 50%;\n",
              "      cursor: pointer;\n",
              "      display: none;\n",
              "      fill: #1967D2;\n",
              "      height: 32px;\n",
              "      padding: 0 0 0 0;\n",
              "      width: 32px;\n",
              "    }\n",
              "\n",
              "    .colab-df-convert:hover {\n",
              "      background-color: #E2EBFA;\n",
              "      box-shadow: 0px 1px 2px rgba(60, 64, 67, 0.3), 0px 1px 3px 1px rgba(60, 64, 67, 0.15);\n",
              "      fill: #174EA6;\n",
              "    }\n",
              "\n",
              "    .colab-df-buttons div {\n",
              "      margin-bottom: 4px;\n",
              "    }\n",
              "\n",
              "    [theme=dark] .colab-df-convert {\n",
              "      background-color: #3B4455;\n",
              "      fill: #D2E3FC;\n",
              "    }\n",
              "\n",
              "    [theme=dark] .colab-df-convert:hover {\n",
              "      background-color: #434B5C;\n",
              "      box-shadow: 0px 1px 3px 1px rgba(0, 0, 0, 0.15);\n",
              "      filter: drop-shadow(0px 1px 2px rgba(0, 0, 0, 0.3));\n",
              "      fill: #FFFFFF;\n",
              "    }\n",
              "  </style>\n",
              "\n",
              "    <script>\n",
              "      const buttonEl =\n",
              "        document.querySelector('#df-beea4058-be7a-4f60-9b86-a393dfaf8403 button.colab-df-convert');\n",
              "      buttonEl.style.display =\n",
              "        google.colab.kernel.accessAllowed ? 'block' : 'none';\n",
              "\n",
              "      async function convertToInteractive(key) {\n",
              "        const element = document.querySelector('#df-beea4058-be7a-4f60-9b86-a393dfaf8403');\n",
              "        const dataTable =\n",
              "          await google.colab.kernel.invokeFunction('convertToInteractive',\n",
              "                                                    [key], {});\n",
              "        if (!dataTable) return;\n",
              "\n",
              "        const docLinkHtml = 'Like what you see? Visit the ' +\n",
              "          '<a target=\"_blank\" href=https://colab.research.google.com/notebooks/data_table.ipynb>data table notebook</a>'\n",
              "          + ' to learn more about interactive tables.';\n",
              "        element.innerHTML = '';\n",
              "        dataTable['output_type'] = 'display_data';\n",
              "        await google.colab.output.renderOutput(dataTable, element);\n",
              "        const docLink = document.createElement('div');\n",
              "        docLink.innerHTML = docLinkHtml;\n",
              "        element.appendChild(docLink);\n",
              "      }\n",
              "    </script>\n",
              "  </div>\n",
              "\n",
              "\n",
              "<div id=\"df-39162366-e836-4cc0-aa42-3a441ff5a244\">\n",
              "  <button class=\"colab-df-quickchart\" onclick=\"quickchart('df-39162366-e836-4cc0-aa42-3a441ff5a244')\"\n",
              "            title=\"Suggest charts\"\n",
              "            style=\"display:none;\">\n",
              "\n",
              "<svg xmlns=\"http://www.w3.org/2000/svg\" height=\"24px\"viewBox=\"0 0 24 24\"\n",
              "     width=\"24px\">\n",
              "    <g>\n",
              "        <path d=\"M19 3H5c-1.1 0-2 .9-2 2v14c0 1.1.9 2 2 2h14c1.1 0 2-.9 2-2V5c0-1.1-.9-2-2-2zM9 17H7v-7h2v7zm4 0h-2V7h2v10zm4 0h-2v-4h2v4z\"/>\n",
              "    </g>\n",
              "</svg>\n",
              "  </button>\n",
              "\n",
              "<style>\n",
              "  .colab-df-quickchart {\n",
              "      --bg-color: #E8F0FE;\n",
              "      --fill-color: #1967D2;\n",
              "      --hover-bg-color: #E2EBFA;\n",
              "      --hover-fill-color: #174EA6;\n",
              "      --disabled-fill-color: #AAA;\n",
              "      --disabled-bg-color: #DDD;\n",
              "  }\n",
              "\n",
              "  [theme=dark] .colab-df-quickchart {\n",
              "      --bg-color: #3B4455;\n",
              "      --fill-color: #D2E3FC;\n",
              "      --hover-bg-color: #434B5C;\n",
              "      --hover-fill-color: #FFFFFF;\n",
              "      --disabled-bg-color: #3B4455;\n",
              "      --disabled-fill-color: #666;\n",
              "  }\n",
              "\n",
              "  .colab-df-quickchart {\n",
              "    background-color: var(--bg-color);\n",
              "    border: none;\n",
              "    border-radius: 50%;\n",
              "    cursor: pointer;\n",
              "    display: none;\n",
              "    fill: var(--fill-color);\n",
              "    height: 32px;\n",
              "    padding: 0;\n",
              "    width: 32px;\n",
              "  }\n",
              "\n",
              "  .colab-df-quickchart:hover {\n",
              "    background-color: var(--hover-bg-color);\n",
              "    box-shadow: 0 1px 2px rgba(60, 64, 67, 0.3), 0 1px 3px 1px rgba(60, 64, 67, 0.15);\n",
              "    fill: var(--button-hover-fill-color);\n",
              "  }\n",
              "\n",
              "  .colab-df-quickchart-complete:disabled,\n",
              "  .colab-df-quickchart-complete:disabled:hover {\n",
              "    background-color: var(--disabled-bg-color);\n",
              "    fill: var(--disabled-fill-color);\n",
              "    box-shadow: none;\n",
              "  }\n",
              "\n",
              "  .colab-df-spinner {\n",
              "    border: 2px solid var(--fill-color);\n",
              "    border-color: transparent;\n",
              "    border-bottom-color: var(--fill-color);\n",
              "    animation:\n",
              "      spin 1s steps(1) infinite;\n",
              "  }\n",
              "\n",
              "  @keyframes spin {\n",
              "    0% {\n",
              "      border-color: transparent;\n",
              "      border-bottom-color: var(--fill-color);\n",
              "      border-left-color: var(--fill-color);\n",
              "    }\n",
              "    20% {\n",
              "      border-color: transparent;\n",
              "      border-left-color: var(--fill-color);\n",
              "      border-top-color: var(--fill-color);\n",
              "    }\n",
              "    30% {\n",
              "      border-color: transparent;\n",
              "      border-left-color: var(--fill-color);\n",
              "      border-top-color: var(--fill-color);\n",
              "      border-right-color: var(--fill-color);\n",
              "    }\n",
              "    40% {\n",
              "      border-color: transparent;\n",
              "      border-right-color: var(--fill-color);\n",
              "      border-top-color: var(--fill-color);\n",
              "    }\n",
              "    60% {\n",
              "      border-color: transparent;\n",
              "      border-right-color: var(--fill-color);\n",
              "    }\n",
              "    80% {\n",
              "      border-color: transparent;\n",
              "      border-right-color: var(--fill-color);\n",
              "      border-bottom-color: var(--fill-color);\n",
              "    }\n",
              "    90% {\n",
              "      border-color: transparent;\n",
              "      border-bottom-color: var(--fill-color);\n",
              "    }\n",
              "  }\n",
              "</style>\n",
              "\n",
              "  <script>\n",
              "    async function quickchart(key) {\n",
              "      const quickchartButtonEl =\n",
              "        document.querySelector('#' + key + ' button');\n",
              "      quickchartButtonEl.disabled = true;  // To prevent multiple clicks.\n",
              "      quickchartButtonEl.classList.add('colab-df-spinner');\n",
              "      try {\n",
              "        const charts = await google.colab.kernel.invokeFunction(\n",
              "            'suggestCharts', [key], {});\n",
              "      } catch (error) {\n",
              "        console.error('Error during call to suggestCharts:', error);\n",
              "      }\n",
              "      quickchartButtonEl.classList.remove('colab-df-spinner');\n",
              "      quickchartButtonEl.classList.add('colab-df-quickchart-complete');\n",
              "    }\n",
              "    (() => {\n",
              "      let quickchartButtonEl =\n",
              "        document.querySelector('#df-39162366-e836-4cc0-aa42-3a441ff5a244 button');\n",
              "      quickchartButtonEl.style.display =\n",
              "        google.colab.kernel.accessAllowed ? 'block' : 'none';\n",
              "    })();\n",
              "  </script>\n",
              "</div>\n",
              "\n",
              "    </div>\n",
              "  </div>\n"
            ],
            "application/vnd.google.colaboratory.intrinsic+json": {
              "type": "dataframe",
              "variable_name": "df"
            }
          },
          "metadata": {},
          "execution_count": 8
        }
      ]
    },
    {
      "cell_type": "code",
      "source": [
        "# Configurar validación cruzada\n",
        "kf = StratifiedKFold( n_splits=5 , shuffle=True , random_state=2024 )\n"
      ],
      "metadata": {
        "id": "8JCn4PUUsd3z"
      },
      "execution_count": null,
      "outputs": []
    },
    {
      "cell_type": "markdown",
      "source": [
        "**StratifiedKFold:**\n",
        "*   Es una clase de scikit-learn utilizada para dividir un conjunto de datos en \"folds\" o particiones para realizar validación cruzada.\n",
        "*   A diferencia de KFold estándar, en StratifiedKFold las particiones generadas preservan la proporción de las clases en el conjunto de datos original. Esto es especialmente útil en problemas de clasificación, donde las clases pueden estar desbalanceadas.\n",
        "\n"
      ],
      "metadata": {
        "id": "RZ8Y8MFRskgg"
      }
    },
    {
      "cell_type": "markdown",
      "source": [
        "**n_splits=5**:\n",
        "*   Indica el número de \"folds\" o divisiones que se harán en los datos.\n",
        "*   En este caso, los datos se dividirán en 5 partes: 4 partes se usarán como conjunto de entrenamiento y 1 como conjunto de prueba en cada iteración.\n",
        "\n",
        "\n"
      ],
      "metadata": {
        "id": "WH86l9UatRO2"
      }
    },
    {
      "cell_type": "markdown",
      "source": [
        "**shuffle=True**:\n",
        "\n",
        "* Activa la mezcla aleatoria de los datos antes de dividirlos en \"folds\".\n",
        "* Esto ayuda a reducir el sesgo introducido por un orden específico en los datos originales."
      ],
      "metadata": {
        "id": "K56hXxCQtjck"
      }
    },
    {
      "cell_type": "markdown",
      "source": [
        "## **MODELO DESBALANCEADO**"
      ],
      "metadata": {
        "id": "SUlFxMlLupg6"
      }
    },
    {
      "cell_type": "code",
      "source": [
        "# Modelo desbalanceado\n",
        "classifier                 = RandomForestClassifier(random_state=2024)\n",
        "accuracy_scores_unbalanced = cross_val_score(classifier, X, y, scoring='accuracy', cv=kf )\n",
        "roc_auc_scores_unbalanced  = cross_val_score(classifier, X, y, scoring='roc_auc' , cv=kf )"
      ],
      "metadata": {
        "id": "cPYadgUstHRT"
      },
      "execution_count": null,
      "outputs": []
    },
    {
      "cell_type": "code",
      "source": [
        "# Entrenamiento completo en datos desbalanceados\n",
        "classifier.fit(X, y)\n",
        "train_accuracy_unbalanced = accuracy_score( y , classifier.predict(X) )\n",
        "train_roc_auc_unbalanced  = roc_auc_score( y , classifier.predict_proba(X)[:, 1] )"
      ],
      "metadata": {
        "id": "Yxe5TVOWuDC4"
      },
      "execution_count": null,
      "outputs": []
    },
    {
      "cell_type": "code",
      "source": [
        "# Balanceo de los datos usando SMOTE\n",
        "smote = SMOTE(random_state=2024)\n",
        "X_balanced, y_balanced = smote.fit_resample(X, y)\n"
      ],
      "metadata": {
        "id": "XeLbXS29tEWI"
      },
      "execution_count": null,
      "outputs": []
    },
    {
      "cell_type": "markdown",
      "source": [
        "## **MODELO BALANCEADO**"
      ],
      "metadata": {
        "id": "LguC3Nd1uxdC"
      }
    },
    {
      "cell_type": "code",
      "source": [
        "# Balanceo de los datos usando SMOTE\n",
        "smote = SMOTE(random_state=2024)\n",
        "X_balanced, y_balanced = smote.fit_resample(X, y)"
      ],
      "metadata": {
        "id": "mJENJpe2u2cA"
      },
      "execution_count": null,
      "outputs": []
    },
    {
      "cell_type": "code",
      "source": [
        "# Modelo balanceado\n",
        "classifier_balanced      = RandomForestClassifier(random_state=2024)\n",
        "accuracy_scores_balanced = cross_val_score(classifier_balanced, X_balanced, y_balanced, scoring='accuracy', cv=kf)\n",
        "roc_auc_scores_balanced  = cross_val_score(classifier_balanced, X_balanced, y_balanced, scoring='roc_auc', cv=kf)"
      ],
      "metadata": {
        "id": "zH7se_xju63z"
      },
      "execution_count": null,
      "outputs": []
    },
    {
      "cell_type": "code",
      "source": [
        "# Entrenamiento completo en datos balanceados\n",
        "classifier_balanced.fit(X_balanced, y_balanced)\n",
        "train_accuracy_balanced = accuracy_score(y_balanced, classifier_balanced.predict(X_balanced))\n",
        "train_roc_auc_balanced  =  roc_auc_score(y_balanced, classifier_balanced.predict_proba(X_balanced)[:, 1])"
      ],
      "metadata": {
        "id": "WA9UlKcUvAxL"
      },
      "execution_count": null,
      "outputs": []
    },
    {
      "cell_type": "markdown",
      "source": [
        "Promedios de las métricas desbalanceadas"
      ],
      "metadata": {
        "id": "m3_EKmf9vaev"
      }
    },
    {
      "cell_type": "code",
      "source": [
        "# Promedios de las métricas\n",
        "mean_accuracy_unbalanced = np.mean(accuracy_scores_unbalanced)\n",
        "std_accuracy_unbalanced  = np.std(accuracy_scores_unbalanced)\n",
        "mean_roc_auc_unbalanced  = np.mean(roc_auc_scores_unbalanced)\n",
        "std_roc_auc_unbalanced   = np.std(roc_auc_scores_unbalanced)"
      ],
      "metadata": {
        "id": "0vNwprORvF0L"
      },
      "execution_count": null,
      "outputs": []
    },
    {
      "cell_type": "markdown",
      "source": [
        "Promedios de las métricas balanceadas"
      ],
      "metadata": {
        "id": "Gvhj9e_XvgJS"
      }
    },
    {
      "cell_type": "code",
      "source": [
        "mean_accuracy_balanced = np.mean(accuracy_scores_balanced)\n",
        "std_accuracy_balanced  = np.std(accuracy_scores_balanced)\n",
        "mean_roc_auc_balanced  = np.mean(roc_auc_scores_balanced)\n",
        "std_roc_auc_balanced   = np.std(roc_auc_scores_balanced)\n"
      ],
      "metadata": {
        "id": "6KBPh9rpvJ0Q"
      },
      "execution_count": null,
      "outputs": []
    },
    {
      "cell_type": "code",
      "source": [
        "# Mostrar resultados\n",
        "print(\"\\n=== Validación Cruzada: Modelo Desbalanceado ===\")\n",
        "print(f\"Accuracy promedio      : {mean_accuracy_unbalanced:.4f} (std: {std_accuracy_unbalanced:.4f})\")\n",
        "print(f\"ROC AUC promedio       : {mean_roc_auc_unbalanced:.4f} (std: {std_roc_auc_unbalanced:.4f})\")\n",
        "print(f\"Accuracy entrenamiento : {train_accuracy_unbalanced:.4f}\")\n",
        "print(f\"ROC AUC entrenamiento  : {train_roc_auc_unbalanced:.4f}\")"
      ],
      "metadata": {
        "colab": {
          "base_uri": "https://localhost:8080/"
        },
        "id": "F_hHLqA7vVg1",
        "outputId": "f688c9c5-9fa9-46b3-936c-a036e43e790a"
      },
      "execution_count": null,
      "outputs": [
        {
          "output_type": "stream",
          "name": "stdout",
          "text": [
            "\n",
            "=== Validación Cruzada: Modelo Desbalanceado ===\n",
            "Accuracy promedio      : 0.9825 (std: 0.0008)\n",
            "ROC AUC promedio       : 0.9982 (std: 0.0003)\n",
            "Accuracy entrenamiento : 1.0000\n",
            "ROC AUC entrenamiento  : 1.0000\n"
          ]
        }
      ]
    },
    {
      "cell_type": "code",
      "source": [
        "print(\"\\n=== Validación Cruzada : Modelo Balanceado ===\")\n",
        "print(f\"Accuracy promedio       : {mean_accuracy_balanced:.4f} (std: {std_accuracy_balanced:.4f})\")\n",
        "print(f\"ROC AUC promedio        : {mean_roc_auc_balanced:.4f} (std: {std_roc_auc_balanced:.4f})\")\n",
        "print(f\"Accuracy entrenamiento  : {train_accuracy_balanced:.4f}\")\n",
        "print(f\"ROC AUC entrenamiento   : {train_roc_auc_balanced:.4f}\")"
      ],
      "metadata": {
        "colab": {
          "base_uri": "https://localhost:8080/"
        },
        "id": "x4LSV0LVvrR-",
        "outputId": "c0198725-3e80-4e72-b7a7-a8f650043884"
      },
      "execution_count": null,
      "outputs": [
        {
          "output_type": "stream",
          "name": "stdout",
          "text": [
            "\n",
            "=== Validación Cruzada : Modelo Balanceado ===\n",
            "Accuracy promedio       : 0.9898 (std: 0.0009)\n",
            "ROC AUC promedio        : 0.9995 (std: 0.0001)\n",
            "Accuracy entrenamiento  : 1.0000\n",
            "ROC AUC entrenamiento   : 1.0000\n"
          ]
        }
      ]
    },
    {
      "cell_type": "code",
      "source": [
        "# Visualización de resultados\n",
        "labels = ['Desbalanceado', 'Balanceado']\n",
        "accuracy_means = [mean_accuracy_unbalanced, mean_accuracy_balanced]\n",
        "roc_auc_means = [mean_roc_auc_unbalanced, mean_roc_auc_balanced]"
      ],
      "metadata": {
        "id": "toOtxKujv-DE"
      },
      "execution_count": null,
      "outputs": []
    },
    {
      "cell_type": "code",
      "source": [
        "# Gráfico de barras para Accuracy\n",
        "plt.figure(figsize=(8, 6))\n",
        "plt.bar(labels, accuracy_means, color=['blue', 'orange'])\n",
        "plt.title('Comparación de Accuracy Promedio (Cross-Validation)')\n",
        "plt.ylabel('Accuracy')\n",
        "plt.grid(axis='y', linestyle='--', alpha=0.7)\n",
        "plt.show()"
      ],
      "metadata": {
        "colab": {
          "base_uri": "https://localhost:8080/",
          "height": 545
        },
        "id": "ZZOTARLYwBLk",
        "outputId": "ddad0425-7103-418d-da72-6eb57d783ac9"
      },
      "execution_count": null,
      "outputs": [
        {
          "output_type": "display_data",
          "data": {
            "text/plain": [
              "<Figure size 800x600 with 1 Axes>"
            ],
            "image/png": "[encoded data removed]"
          },
          "metadata": {}
        }
      ]
    },
    {
      "cell_type": "code",
      "source": [
        "# Gráfico de barras para ROC AUC\n",
        "plt.figure(figsize=(8, 6))\n",
        "plt.bar(labels, roc_auc_means, color=['blue', 'orange'])\n",
        "plt.title('Comparación de ROC AUC Promedio (Cross-Validation)')\n",
        "plt.ylabel('ROC AUC')\n",
        "plt.grid(axis='y', linestyle='--', alpha=0.7)\n",
        "plt.show()\n"
      ],
      "metadata": {
        "colab": {
          "base_uri": "https://localhost:8080/",
          "height": 545
        },
        "id": "sZhKN_x0wDd2",
        "outputId": "5176de58-b897-4af3-94c1-b7767d4a6d4d"
      },
      "execution_count": null,
      "outputs": [
        {
          "output_type": "display_data",
          "data": {
            "text/plain": [
              "<Figure size 800x600 with 1 Axes>"
            ],
            "image/png": "[encoded data removed]"
          },
          "metadata": {}
        }
      ]
    }
  ]
}